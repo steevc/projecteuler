{
 "metadata": {
  "name": "",
  "signature": "sha256:a1f3d4fee54b94325d64475f0b04c04d8398f8ed9f9131a711c62e8436b974b5"
 },
 "nbformat": 3,
 "nbformat_minor": 0,
 "worksheets": [
  {
   "cells": [
    {
     "cell_type": "code",
     "collapsed": false,
     "input": [
      "# PE6\n",
      "sumsq = sum(x**2 for x in range(1,101))\n",
      "sqsum = (sum(x for x in range(1,101)))**2\n",
      "print('%s - %s = %s' % (sqsum, sumsq, sqsum - sumsq))"
     ],
     "language": "python",
     "metadata": {},
     "outputs": [
      {
       "output_type": "stream",
       "stream": "stdout",
       "text": [
        "25502500 - 338350 = 25164150\n"
       ]
      }
     ],
     "prompt_number": 1
    },
    {
     "cell_type": "markdown",
     "metadata": {},
     "source": [
      "This is some text. Not code"
     ]
    },
    {
     "cell_type": "code",
     "collapsed": false,
     "input": [
      "# PE10\n",
      "from math import sqrt\n",
      "p=[2, 3]\n",
      "\n",
      "def isprime(n):\n",
      "    ip = True\n",
      "    s = sqrt(n)+1\n",
      "    for x in p:\n",
      "        if x > s:\n",
      "            break\n",
      "        if n % x == 0:\n",
      "            ip = False\n",
      "            break\n",
      "    return ip\n",
      "\n",
      "c = 2\n",
      "n = 3\n",
      "while n < 1999999:\n",
      "    n += 2\n",
      "    #print(n)\n",
      "    if isprime(n):\n",
      "        c += 1\n",
      "        p.append(n)\n",
      "print(sum(p))"
     ],
     "language": "python",
     "metadata": {},
     "outputs": [
      {
       "output_type": "stream",
       "stream": "stdout",
       "text": [
        "142913828922\n"
       ]
      }
     ],
     "prompt_number": 4
    },
    {
     "cell_type": "code",
     "collapsed": false,
     "input": [
      "# PE12 divisors of triangle numbers\n",
      "from math import sqrt, floor\n",
      "def CountFactors(n):\n",
      "    s=set()\n",
      "    for x in range(1, int(floor(sqrt(n)+1))):\n",
      "        if n % x == 0:\n",
      "            s.update([x, n//x])\n",
      "    return len(s)\n",
      "\n",
      "cd = 0\n",
      "t=0\n",
      "while cd <= 500:\n",
      "    t+=1\n",
      "    tt=sum(x for x in range(1,t+1))\n",
      "    #print(t, tt, CountFactors(tt))\n",
      "    cd = CountFactors(tt)\n",
      "print(t, tt)"
     ],
     "language": "python",
     "metadata": {},
     "outputs": [
      {
       "output_type": "stream",
       "stream": "stdout",
       "text": [
        "(12375, 76576500)\n"
       ]
      }
     ],
     "prompt_number": 20
    },
    {
     "cell_type": "code",
     "collapsed": false,
     "input": [
      "# PE13 sum of long numbers. Python handles these\n",
      "with open('pe13sum.txt','r') as f:\n",
      "    content = f.readlines()\n",
      "x = sum(int(x) for x in content)\n",
      "print((str(x))[:10])"
     ],
     "language": "python",
     "metadata": {},
     "outputs": [
      {
       "output_type": "stream",
       "stream": "stdout",
       "text": [
        "5537376230\n"
       ]
      }
     ],
     "prompt_number": 23
    },
    {
     "cell_type": "code",
     "collapsed": false,
     "input": [
      "# PE14 Collatz sequence\n",
      "def CountSeq(n):\n",
      "    c = 1\n",
      "    nx = n\n",
      "    while nx != 1:\n",
      "        if nx % 2 == 0:\n",
      "            nx = nx / 2\n",
      "        else:\n",
      "            nx = 3*nx + 1\n",
      "        c += 1\n",
      "    return c\n",
      "\n",
      "s = set()\n",
      "mc = 0\n",
      "for x in range(1,1000000):\n",
      "    if x not in s:\n",
      "        s.add(x)\n",
      "        cs = CountSeq(x)\n",
      "        if cs > mc:\n",
      "            mc = cs\n",
      "            mn = x\n",
      "print(mc, mn)"
     ],
     "language": "python",
     "metadata": {},
     "outputs": [
      {
       "output_type": "stream",
       "stream": "stdout",
       "text": [
        "(525, 837799)\n"
       ]
      }
     ],
     "prompt_number": 27
    },
    {
     "cell_type": "code",
     "collapsed": false,
     "input": [
      "# PE 15 lattice paths 14/7/15\n",
      "# Paths through a 20x20 lattice\n",
      "print(math.factorial(40)/math.factorial(20)/math.factorial(20))"
     ],
     "language": "python",
     "metadata": {},
     "outputs": [
      {
       "output_type": "stream",
       "stream": "stdout",
       "text": [
        "137846528820\n"
       ]
      }
     ],
     "prompt_number": 5
    },
    {
     "cell_type": "code",
     "collapsed": false,
     "input": [
      "#PE16 14/7/15 Sum of digits in 2^1000\n",
      "sum(int(i) for i in str(2**1000))"
     ],
     "language": "python",
     "metadata": {},
     "outputs": [
      {
       "metadata": {},
       "output_type": "pyout",
       "prompt_number": 4,
       "text": [
        "1366"
       ]
      }
     ],
     "prompt_number": 4
    },
    {
     "cell_type": "code",
     "collapsed": false,
     "input": [
      "#PE17 14/7/15\n",
      "# Length of numbers written in words up to 1000\n",
      "lownum = ['','one','two','three','four','five','six','seven','eight','nine','ten',\n",
      "          'eleven','twelve','thirteen','fourteen','fifteen','sixteen','seventeen',\n",
      "          'eighteen','nineteen']\n",
      "tensnum = ['','','twenty','thirty','forty','fifty','sixty','seventy','eighty','ninety']\n",
      "\n",
      "def makenum(x):\n",
      "    t = []\n",
      "    if x == 1000:\n",
      "        t.append('onethousand')\n",
      "    hundreds = (x % 1000) // 100\n",
      "    if hundreds > 0:\n",
      "        t.append(lownum[hundreds])\n",
      "        t.append('hundred')\n",
      "    tens = (x % 100) // 10\n",
      "    if x % 100 > 0 and x // 100 > 0:\n",
      "        t.append('and')\n",
      "    if tens > 1:\n",
      "        t.append(tensnum[tens])\n",
      "        t.append(lownum[x % 10])\n",
      "    else:\n",
      "        t.append(lownum[x % 100])\n",
      "    return ''.join(t)\n",
      "\n",
      "total = 0\n",
      "for x in range(1,1001):\n",
      "    total += len(makenum(x))\n",
      "print(total)"
     ],
     "language": "python",
     "metadata": {},
     "outputs": [
      {
       "output_type": "stream",
       "stream": "stdout",
       "text": [
        "21124\n"
       ]
      }
     ],
     "prompt_number": 3
    },
    {
     "cell_type": "code",
     "collapsed": false,
     "input": [
      "# PE20 sum of digits in 100! 14/7/15\n",
      "import math\n",
      "sum(int(x) for x in str(math.factorial(100)))"
     ],
     "language": "python",
     "metadata": {},
     "outputs": [
      {
       "metadata": {},
       "output_type": "pyout",
       "prompt_number": 2,
       "text": [
        "648"
       ]
      }
     ],
     "prompt_number": 2
    },
    {
     "cell_type": "code",
     "collapsed": false,
     "input": [
      "# PE25 Fibonacci 14/7/15\n",
      "# Index of first Fibonacci number with 1000 digits\n",
      "n1, n2 = 1, 1\n",
      "x = 2\n",
      "while len(str(n2)) < 1000:\n",
      "    x += 1\n",
      "    n2, n1 = n1 + n2, n2\n",
      "print(x, n2)\n",
      "    "
     ],
     "language": "python",
     "metadata": {},
     "outputs": [
      {
       "output_type": "stream",
       "stream": "stdout",
       "text": [
        "(4782, 1070066266382758936764980584457396885083683896632151665013235203375314520604694040621889147582489792657804694888177591957484336466672569959512996030461262748092482186144069433051234774442750273781753087579391666192149259186759553966422837148943113074699503439547001985432609723067290192870526447243726117715821825548491120525013201478612965931381792235559657452039506137551467837543229119602129934048260706175397706847068202895486902666185435124521900369480641357447470911707619766945691070098024393439617474103736912503231365532164773697023167755051595173518460579954919410967778373229665796581646513903488154256310184224190259846088000110186255550245493937113651657039447629584714548523425950428582425306083544435428212611008992863795048006894330309773217834864543113205765659868456288616808718693835297350643986297640660000723562917905207051164077614812491885830945940566688339109350944456576357666151619317753792891661581327159616877487983821820492520348473874384736771934512787029218636250627816L)\n"
       ]
      }
     ],
     "prompt_number": 7
    },
    {
     "cell_type": "code",
     "collapsed": false,
     "input": [
      "# PE35 circular primes\n",
      "from math import sqrt\n",
      "p=[]\n",
      "c=set()\n",
      "\n",
      "def isprime(n):\n",
      "    ip = True\n",
      "    s = sqrt(n)+1\n",
      "    for x in p:\n",
      "        if x > s:\n",
      "            break\n",
      "        if n % x == 0:\n",
      "            ip = False\n",
      "            break\n",
      "    return ip\n",
      "\n",
      "c.add(2)\n",
      "for x in range(3,1000000,2):\n",
      "    #if not x in c: Returns more than it should. Not sure why that is wrong\n",
      "        if isprime(x):\n",
      "            p.append(x)\n",
      "            iscirc = True\n",
      "            xs = str(x)\n",
      "            #print('x',x)\n",
      "            # do rotations\n",
      "            l = [x]\n",
      "            for n in range(0,len(str(x))-1):\n",
      "                xs = xs[-1] + xs[0:-1]\n",
      "                #print('test',xs)\n",
      "                if int(xs[-1]) % 2 == 0 or not isprime(int(xs)):\n",
      "                    iscirc = False\n",
      "                    break\n",
      "                else:\n",
      "                    l.append(int(xs))\n",
      "            if iscirc:\n",
      "                c.update(l)\n",
      "                \n",
      "print(len(c),c)"
     ],
     "language": "python",
     "metadata": {},
     "outputs": [
      {
       "output_type": "stream",
       "stream": "stdout",
       "text": [
        "(55, set([7937, 2, 3, 999331, 5, 7, 11, 13, 39119, 17, 131, 919, 919393, 31, 9377, 11939, 37, 7793, 93719, 1193, 199, 331999, 3119, 99371, 933199, 311, 391939, 91193, 9311, 19391, 1931, 197, 71, 73, 971, 79, 337, 37199, 19937, 3779, 93911, 939193, 719, 733, 991, 97, 993319, 199933, 113, 193939, 373, 319993, 393919, 71993, 939391]))\n"
       ]
      }
     ],
     "prompt_number": 24
    },
    {
     "cell_type": "code",
     "collapsed": false,
     "input": [],
     "language": "python",
     "metadata": {},
     "outputs": []
    }
   ],
   "metadata": {}
  }
 ]
}